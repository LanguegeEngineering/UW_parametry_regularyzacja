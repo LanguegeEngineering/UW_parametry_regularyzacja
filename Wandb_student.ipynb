{
  "nbformat": 4,
  "nbformat_minor": 0,
  "metadata": {
    "colab": {
      "name": "Wandb_student.ipynb",
      "provenance": [],
      "collapsed_sections": []
    },
    "kernelspec": {
      "name": "python3",
      "display_name": "Python 3"
    }
  },
  "cells": [
    {
      "cell_type": "code",
      "metadata": {
        "id": "5suCg6YnemST"
      },
      "source": [
        "import torch\n",
        "import numpy as np\n",
        "\n",
        "dtype = torch.float\n",
        "device = torch.device(\"cpu\")\n",
        "\n",
        "N, D_in, H, D_out = 16, 4, 3, 1\n",
        "\n",
        "# Create random input and output data\n",
        "\n",
        "x_numpy = np.array(    [[0., 0., 0., 1.],\n",
        "                        [1., 0., 0., 1.],\n",
        "                        [0., 1., 0., 1.],\n",
        "                        [0., 0., 1., 1.],\n",
        "                        [1., 1., 0., 1.],\n",
        "                        [1., 0., 1., 1.],\n",
        "                        [0., 1., 1., 1.],\n",
        "                        [1., 1., 1., 1.],\n",
        "                        [0., 0., 0., 0.],\n",
        "                        [1., 0., 0., 0.],\n",
        "                        [0., 1., 0., 0.],\n",
        "                        [0., 0., 1., 0.],\n",
        "                        [1., 1., 0., 0.],\n",
        "                        [1., 0., 1., 0.],\n",
        "                        [0., 1., 1., 0.],\n",
        "                        [1., 1., 1., 0.]])\n",
        "\n",
        "x = torch.from_numpy(x_numpy).float()\n",
        "print(x)\n"
      ],
      "execution_count": null,
      "outputs": []
    },
    {
      "cell_type": "code",
      "metadata": {
        "id": "5fdCi5Dhen5P"
      },
      "source": [
        "y_numpy = np.array(     [[1.],\n",
        "                         [1.],\n",
        "                         [1.],\n",
        "                         [1.],\n",
        "                         [1.],\n",
        "                         [1.],\n",
        "                         [1.],\n",
        "                         [1.],\n",
        "                         [0.],\n",
        "                         [0.],\n",
        "                         [0.],\n",
        "                         [0.],\n",
        "                         [0.],\n",
        "                         [0.],\n",
        "                         [0.],\n",
        "                         [0.]])\n",
        "\n",
        "y = torch.from_numpy(y_numpy).float()"
      ],
      "execution_count": null,
      "outputs": []
    },
    {
      "cell_type": "code",
      "source": [
        "!pip install wandb -qqq\n",
        "import wandb\n",
        "wandb.login()"
      ],
      "metadata": {
        "id": "V8qLs0AL9a-k"
      },
      "execution_count": null,
      "outputs": []
    },
    {
      "cell_type": "code",
      "metadata": {
        "id": "euW5qx0UeqDk"
      },
      "source": [
        "learning_rates = [1e-4, 1e-3, 1e-2]\n",
        "H = [5, 10, 20]\n",
        "activation_functions = [torch.nn.Tanh(), torch.nn.ReLU()]"
      ],
      "execution_count": null,
      "outputs": []
    },
    {
      "cell_type": "code",
      "metadata": {
        "id": "4ky8cdDpewVD"
      },
      "source": [
        "parameters_list = []\n",
        "loss_lists = []\n",
        "for learning_rate in learning_rates:\n",
        "  for h in H:\n",
        "    for activ in activation_functions:\n",
        "\n",
        "      wandb.init(\n",
        "      project=\"intro-to-wandb\", \n",
        "      name=f\"experiment_lr_{learning_rate}_h_{h}_activ_{activ._get_name()}\", \n",
        "      config={\n",
        "        \"learning_rate\": learning_rate,\n",
        "        \"architecture\": \"MLP\",\n",
        "        \"dataset\": \"Logical gates\",\n",
        "        \"activation function\": activ._get_name(),\n",
        "        \"number_of_neurons\" : h,\n",
        "        \"epochs\": 100})\n",
        "\n",
        "      config = wandb.config\n",
        "\n",
        "      model = torch.nn.Sequential(\n",
        "      torch.nn.Linear(D_in, h),\n",
        "      activ,\n",
        "      torch.nn.Linear(h, D_out)\n",
        "      )\n",
        "      \n",
        "      loss_fn = torch.nn.MSELoss(reduction='sum')\n",
        "      optimizer = torch.optim.Adam(model.parameters(), lr=learning_rate)\n",
        "      loss_list = []\n",
        "      for t in range(config.epochs):\n",
        "        y_pred = model(x)\n",
        "        loss = loss_fn(y_pred, y)\n",
        "\n",
        "        loss_list.append(loss.item())\n",
        "        train_metrics = {\"train/epoch\": t,\n",
        "                        \"train/loss\": loss.item()}\n",
        "       \n",
        "\n",
        "\n",
        "        optimizer.zero_grad()\n",
        "        loss.backward()\n",
        "        optimizer.step()\n",
        "        wandb.log({**train_metrics})\n",
        "\n",
        "      loss_lists.append(loss_list)\n",
        "wandb.finish()\n"
      ],
      "execution_count": null,
      "outputs": []
    },
    {
      "cell_type": "code",
      "metadata": {
        "id": "5KSXF-Zxey-q"
      },
      "source": [
        "import matplotlib.pyplot as plt\n",
        "\n",
        "number_of_loss_list = 0\n",
        "plt.plot(loss_lists[number_of_loss_list], label = 'loss')\n",
        "plt.legend()\n",
        "plt.show()\n",
        "print(\"Loss in last iteration wherer lr = {}: {}\".format(learning_rates[number_of_loss_list], loss_lists[number_of_loss_list][-1]))"
      ],
      "execution_count": null,
      "outputs": []
    },
    {
      "cell_type": "markdown",
      "metadata": {
        "id": "t1iLvzn4hCSL"
      },
      "source": [
        "### Zadania\n",
        "\n",
        "Analogicznie do poprzednich, sprobować innych parametrow i zobaczyc na stronie jak to działa."
      ]
    },
    {
      "cell_type": "code",
      "metadata": {
        "id": "_T8V6k9Ghnw-"
      },
      "source": [
        ""
      ],
      "execution_count": null,
      "outputs": []
    }
  ]
}